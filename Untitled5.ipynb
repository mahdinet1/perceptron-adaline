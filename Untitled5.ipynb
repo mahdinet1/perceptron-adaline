{
 "cells": [
  {
   "cell_type": "code",
   "execution_count": 1,
   "id": "2be8a359",
   "metadata": {},
   "outputs": [],
   "source": [
    "import pandas as pd\n",
    "import numpy as np\n",
    "import time\n"
   ]
  },
  {
   "cell_type": "code",
   "execution_count": 2,
   "id": "9584d0bc",
   "metadata": {},
   "outputs": [],
   "source": [
    "import os\n",
    "filesList = []"
   ]
  },
  {
   "cell_type": "code",
   "execution_count": 38,
   "id": "ab39102d",
   "metadata": {},
   "outputs": [],
   "source": [
    "class PrepareData:\n",
    "    def __init__(self,folderPath):\n",
    "        self.folderPath = folderPath\n",
    "        self.files = []\n",
    "        self.true_labels = ['A', 'B', 'C', 'D', 'E', 'J', 'K']\n",
    "        self.directory = os.listdir(self.folderPath)\n",
    "        self.labels = -np.ones((len(self.directory),len(self.true_labels)))\n",
    "        self.readFiles()\n",
    "        self.binaryReplace()\n",
    "        self.returnLabels()\n",
    "    def readFiles(self):\n",
    "        for i in os.listdir(self.folderPath):\n",
    "            file = pd.read_fwf(os.path.join(self.folderPath,i),colspecs=[(0,1),(1,2),(2,3),(3,4),(4,5),(5,6),(6,7)],header=None)\n",
    "            \n",
    "            self.files.append(file)\n",
    "    def binaryReplace(self):\n",
    "            for el in self.files:\n",
    "                for col in el.columns.to_list():\n",
    "                    el[col].replace('.',-1,inplace=True)\n",
    "                    el[col].replace('#',1,inplace=True)\n",
    "                    el[col].replace('o',0,inplace=True)\n",
    "                    el[col].replace('@',0,inplace=True)\n",
    "    \n",
    "    def returnLabels(self):        \n",
    "        fileNames = []\n",
    "        for name in self.directory:\n",
    "            fileNames.append(name.split(\".\")[0][0])\n",
    "        \n",
    "        for i in range(len(fileNames)):\n",
    "            index = self.true_labels.index(fileNames[i])\n",
    "            self.labels[i][index] = 1\n",
    "    def returnData(self):\n",
    "        return (np.array(self.files).reshape(len(self.directory),7*9),np.array(self.labels))"
   ]
  },
  {
   "cell_type": "code",
   "execution_count": 39,
   "id": "2cc11fb1",
   "metadata": {},
   "outputs": [],
   "source": [
    "test_data = PrepareData(\"C:\\\\Users\\Mahdi zeynali\\Desktop\\Characters-TestSet\")"
   ]
  },
  {
   "cell_type": "code",
   "execution_count": 40,
   "id": "53801fcc",
   "metadata": {},
   "outputs": [],
   "source": [
    "(X_test,Y_test) = test_data.returnData()"
   ]
  },
  {
   "cell_type": "code",
   "execution_count": 41,
   "id": "511553b2",
   "metadata": {},
   "outputs": [
    {
     "name": "stdout",
     "output_type": "stream",
     "text": [
      "(21, 63) [[ 1. -1. -1. -1. -1. -1. -1.]\n",
      " [ 1. -1. -1. -1. -1. -1. -1.]\n",
      " [ 1. -1. -1. -1. -1. -1. -1.]\n",
      " [-1.  1. -1. -1. -1. -1. -1.]\n",
      " [-1.  1. -1. -1. -1. -1. -1.]\n",
      " [-1.  1. -1. -1. -1. -1. -1.]\n",
      " [-1. -1.  1. -1. -1. -1. -1.]\n",
      " [-1. -1.  1. -1. -1. -1. -1.]\n",
      " [-1. -1.  1. -1. -1. -1. -1.]\n",
      " [-1. -1. -1.  1. -1. -1. -1.]\n",
      " [-1. -1. -1.  1. -1. -1. -1.]\n",
      " [-1. -1. -1.  1. -1. -1. -1.]\n",
      " [-1. -1. -1. -1.  1. -1. -1.]\n",
      " [-1. -1. -1. -1.  1. -1. -1.]\n",
      " [-1. -1. -1. -1.  1. -1. -1.]\n",
      " [-1. -1. -1. -1. -1.  1. -1.]\n",
      " [-1. -1. -1. -1. -1.  1. -1.]\n",
      " [-1. -1. -1. -1. -1.  1. -1.]\n",
      " [-1. -1. -1. -1. -1. -1.  1.]\n",
      " [-1. -1. -1. -1. -1. -1.  1.]\n",
      " [-1. -1. -1. -1. -1. -1.  1.]]\n"
     ]
    }
   ],
   "source": [
    "print(X_test.shape,Y_test)"
   ]
  },
  {
   "cell_type": "code",
   "execution_count": 42,
   "id": "45ce0faf",
   "metadata": {},
   "outputs": [
    {
     "data": {
      "text/plain": [
       "(21, 64)"
      ]
     },
     "execution_count": 42,
     "metadata": {},
     "output_type": "execute_result"
    }
   ],
   "source": [
    "np.append(X_test,np.ones((21,1)),axis=1).shape"
   ]
  },
  {
   "cell_type": "code",
   "execution_count": 43,
   "id": "f6ce19d5",
   "metadata": {},
   "outputs": [
    {
     "data": {
      "text/plain": [
       "(21, 63)"
      ]
     },
     "execution_count": 43,
     "metadata": {},
     "output_type": "execute_result"
    }
   ],
   "source": [
    "X_test.shape"
   ]
  },
  {
   "cell_type": "code",
   "execution_count": 44,
   "id": "0681d11c",
   "metadata": {},
   "outputs": [],
   "source": [
    "train_data = PrepareData(\"C:\\\\Users\\Mahdi zeynali\\Desktop\\Characters-TrainSet\")"
   ]
  },
  {
   "cell_type": "code",
   "execution_count": 45,
   "id": "c7db928d",
   "metadata": {},
   "outputs": [],
   "source": [
    "(X_train,Y_train) = train_data.returnData()"
   ]
  },
  {
   "cell_type": "markdown",
   "id": "3031868a",
   "metadata": {},
   "source": [
    "(X_train,Y_train) = train_data.returnData()"
   ]
  },
  {
   "cell_type": "code",
   "execution_count": 253,
   "id": "8fa2a048",
   "metadata": {},
   "outputs": [],
   "source": [
    "class PerseptronModel:\n",
    "    def __init__(self,alpha,inputs,labels):\n",
    "        self.alpha = alpha\n",
    "        self.inputs=np.append(inputs,np.ones((inputs.shape[0],1)),axis=1)\n",
    "        self.labels = labels\n",
    "        self.Y_pred = -np.ones_like(labels)\n",
    "        self.w = np.zeros((self.inputs.shape[1],labels.shape[1]))\n",
    "       \n",
    "    def stepFunction(self,x):\n",
    "        return np.where(x >= 0.0, 1, -1)\n",
    "    def sigmoidFunction(self,x):\n",
    "        return 1/(1 + np.exp(-x))\n",
    "    def linearFunction(self,x):\n",
    "        return x\n",
    "    def forwardPath(self,row,x):\n",
    "        y_pred = np.dot(x[row].reshape(1,self.inputs.shape[1]),self.w) \n",
    "       \n",
    "        self.Y_pred[row] = self.stepFunction(y_pred)\n",
    "        return (self.Y_pred[row],self.w)\n",
    "    def update(self,y,row):\n",
    "        t = (self.labels[row]- y).reshape(1,self.labels.shape[1])\n",
    "        self.w +=   self.alpha*np.dot(self.inputs[row].reshape(self.inputs.shape[1],1),t)\n",
    "        \n",
    "    def epoch(self):\n",
    "        for i in range(self.inputs.shape[0]):\n",
    "            pred = self.forwardPath(i,self.inputs)\n",
    "            result = self.update(pred[0],i)\n",
    "           \n",
    "        \n",
    "    def train(self,iter):\n",
    "        for i in range(iter):\n",
    "            print(\"epoch\",i)\n",
    "            count = 0\n",
    "            while(True):\n",
    "                count +=1\n",
    "                self.epoch()\n",
    "                if(np.array_equal(np.array(self.Y_pred),self.labels)):\n",
    "                    break\n",
    "                if(count > 1000):\n",
    "                    break\n",
    "    def predict(self,x):\n",
    "        predList = []\n",
    "        for i in range(x.shape[0]):\n",
    "            (pred,_) = self.forwardPath(i,np.append(x,np.ones((21,1)),axis=1))\n",
    "            predList.append(pred)\n",
    "        return predList\n",
    "    def score(self,y,y_pred):\n",
    "       \n",
    "        subtract = y-y_pred\n",
    "        error = 0\n",
    "        for i in subtract:\n",
    "            if(not(np.array_equal(i,np.zeros_like(i)))):\n",
    "                error +=1\n",
    "        print(1-error/subtract.shape[0])\n",
    "       "
   ]
  },
  {
   "cell_type": "code",
   "execution_count": 254,
   "id": "9bc3ae7f",
   "metadata": {},
   "outputs": [],
   "source": [
    "model = PerseptronModel(0.1,X_train,Y_train)"
   ]
  },
  {
   "cell_type": "code",
   "execution_count": 255,
   "id": "b5c5e579",
   "metadata": {},
   "outputs": [
    {
     "name": "stdout",
     "output_type": "stream",
     "text": [
      "epoch 0\n",
      "epoch 1\n",
      "epoch 2\n",
      "epoch 3\n",
      "epoch 4\n",
      "epoch 5\n",
      "epoch 6\n",
      "epoch 7\n",
      "epoch 8\n",
      "epoch 9\n",
      "0.0469670295715332\n"
     ]
    }
   ],
   "source": [
    "start_time = time.time()\n",
    "model.train(10)\n",
    "print(time.time() - start_time)"
   ]
  },
  {
   "cell_type": "code",
   "execution_count": 256,
   "id": "92efcfa1",
   "metadata": {},
   "outputs": [
    {
     "data": {
      "text/plain": [
       "array([[-0.4,  0.4, -1. ,  0.2,  0.6,  0. ,  0.6],\n",
       "       [ 0. ,  0.4, -0.6,  0.2,  0.6,  0. ,  0.2],\n",
       "       [ 0.4, -0.4,  0.2, -0.2, -0.2, -0.8, -0.6],\n",
       "       [ 0. , -0.4, -0.2, -0.2, -0.2, -0.4, -0.6],\n",
       "       [-0.4,  0. ,  0.2,  0.2,  1. ,  0. , -0.6],\n",
       "       [-0.8,  0.8, -0.2, -1. , -0.2,  0. ,  0.2],\n",
       "       [ 0. , -0.4,  0.6, -0.2,  1.4,  0.4,  0.2],\n",
       "       [ 0. ,  0. , -0.2,  0.2,  0.2,  0. ,  0.2],\n",
       "       [ 0. ,  0.4,  1. ,  0.6,  0.6,  0. ,  0.2],\n",
       "       [ 0.4,  0.4,  0.6,  0.6,  0.6,  0.4,  0.2],\n",
       "       [ 0.8,  0. ,  0.2,  0.2,  0.2,  0. , -0.2],\n",
       "       [ 0. ,  0.4,  0.2,  0.6, -0.2,  0.4,  1. ],\n",
       "       [ 0. , -0.4,  0.2,  0.6, -0.2,  0.8,  0.2],\n",
       "       [ 0. ,  1.2,  0.6, -0.2,  0.2, -0.4, -0.6],\n",
       "       [ 0. ,  0. ,  0.2,  0.2,  0.2,  0. ,  0.2],\n",
       "       [ 0. ,  0.4,  0.6,  0.6,  0.6,  0. ,  0.2],\n",
       "       [ 0.4,  0.4,  0.6,  0.6,  0.6,  0.4,  0.2],\n",
       "       [ 0.4,  0. , -0.2,  0.2, -0.6,  0. ,  0.6],\n",
       "       [ 0.4,  0.4,  0.6,  0.2,  0.6,  0.4,  0.2],\n",
       "       [ 0. ,  0.4,  0.2,  0.2,  0.2,  0.8,  0.2],\n",
       "       [ 0. ,  0.8,  0.2,  0.6, -1. ,  0. , -0.2],\n",
       "       [ 0. ,  0. ,  0.2,  0.2,  0.2,  0. ,  0.2],\n",
       "       [ 0. ,  0.4,  0.6,  0.6,  0.6,  0. ,  0.2],\n",
       "       [ 0.4,  0.4, -0.2,  0.2, -0.2,  0. ,  0.6],\n",
       "       [ 0.4,  0.8,  0.2,  0.2,  1.8,  0.4,  0.2],\n",
       "       [ 0.8,  0.4,  0.2,  0.2,  0.6,  0. , -0.2],\n",
       "       [ 0. ,  0.8,  0.2,  0.2,  0.2,  0.8,  0.2],\n",
       "       [ 0. ,  0.4, -0.2,  0.6, -1. ,  0. , -0.2],\n",
       "       [ 0. ,  0. ,  0.2,  0.2,  0.2,  0. ,  0.2],\n",
       "       [-0.4,  0. , -0.2, -0.2,  0.2, -0.4,  0.2],\n",
       "       [ 0.4,  0.4, -0.6, -1. , -0.2, -0.4, -0.2],\n",
       "       [ 0. ,  0.8, -0.2, -0.2,  1.4,  0. , -0.2],\n",
       "       [ 0.4,  0.4, -0.2, -0.6,  0.2, -0.4, -0.6],\n",
       "       [-0.4,  1.2, -0.2, -0.6, -1.4,  0.4, -0.2],\n",
       "       [ 0.4,  0. ,  0.2,  1.4,  0.6,  0.4,  0.2],\n",
       "       [ 0. ,  0. ,  0.2,  0.2,  0.2,  0. ,  0.2],\n",
       "       [ 0.4,  0. ,  0.2,  0.2,  0.2, -0.4, -0.2],\n",
       "       [ 0.4,  0. , -0.2,  0.2,  0.2,  0. ,  0.2],\n",
       "       [ 0.8,  0. , -0.2, -0.2,  0.2,  0. ,  0.2],\n",
       "       [ 0.8,  0. ,  0.2,  0.2,  0.2,  0. , -0.2],\n",
       "       [ 0.4,  0. , -0.2, -0.2, -0.2,  0.4, -0.2],\n",
       "       [ 0. ,  0.8, -0.2,  0.6, -1. ,  0. , -0.2],\n",
       "       [ 0. ,  0. ,  0.2,  0.2,  0.2,  0. ,  0.2],\n",
       "       [ 0. ,  0. , -0.2, -0.2, -0.2,  0. , -0.2],\n",
       "       [ 0.4,  0.4,  0.6,  0.6,  0.6,  0.4,  0.2],\n",
       "       [ 0. ,  0.4,  0.2,  0.6,  0.6,  0.4,  0.6],\n",
       "       [ 0.4,  0.4,  0.6,  0.2, -0.6,  0.4,  0.6],\n",
       "       [ 0.4,  0. , -0.2, -0.2, -0.2,  0.4, -0.2],\n",
       "       [ 0. ,  0.8,  0.2,  0.6, -1. ,  0. , -0.2],\n",
       "       [ 0. ,  0. , -0.2,  0.2,  0.2,  0. ,  0.2],\n",
       "       [ 0. ,  0. ,  0.2, -0.2, -0.2,  0. , -0.2],\n",
       "       [ 0.4,  0.4,  0.6,  0.6,  0.6,  0.4,  0.2],\n",
       "       [ 0.4,  0.4,  0.6,  0.6,  0.6,  0.4,  0.2],\n",
       "       [ 0. ,  0.4,  0.2,  0.6,  0.6,  0.4,  0.6],\n",
       "       [ 0.4, -0.8, -0.2,  0.2, -1.4,  0.4,  0.2],\n",
       "       [ 0. ,  1.2,  0.6, -0.2,  0.2, -0.4, -0.6],\n",
       "       [ 0. ,  0. , -1.4, -0.2,  0.2, -0.4,  0.2],\n",
       "       [ 0.4,  0. , -1. , -0.2,  0.2, -0.4, -0.2],\n",
       "       [ 0. , -0.4, -0.2, -0.6, -0.6, -0.4, -0.6],\n",
       "       [-0.4,  0. ,  0.2,  0.2,  1. ,  0. , -0.6],\n",
       "       [ 0. , -0.4, -0.2, -0.2,  0.6, -0.4, -1. ],\n",
       "       [ 0. ,  0.4, -0.2, -1. , -0.2, -0.8, -0.2],\n",
       "       [ 0.8, -0.4, -0.2, -0.2,  1.8,  0. ,  0.2],\n",
       "       [-0.4, -0.4, -0.6, -0.6, -0.6, -0.4, -0.2]])"
      ]
     },
     "execution_count": 256,
     "metadata": {},
     "output_type": "execute_result"
    }
   ],
   "source": [
    "model.w"
   ]
  },
  {
   "cell_type": "code",
   "execution_count": 257,
   "id": "ca0af27b",
   "metadata": {},
   "outputs": [],
   "source": [
    "y_pred = model.predict(X_test)"
   ]
  },
  {
   "cell_type": "code",
   "execution_count": 258,
   "id": "ba66a00d",
   "metadata": {},
   "outputs": [
    {
     "name": "stdout",
     "output_type": "stream",
     "text": [
      "0.9523809523809523\n"
     ]
    }
   ],
   "source": [
    "model.score(Y_test,np.array(y_pred))"
   ]
  },
  {
   "cell_type": "code",
   "execution_count": 267,
   "id": "8e0b58b4",
   "metadata": {},
   "outputs": [],
   "source": [
    "class AdalineModel:\n",
    "    def __init__(self,alpha,inputs,labels):\n",
    "        self.alpha = alpha\n",
    "        self.inputs=np.append(inputs,np.ones((inputs.shape[0],1)),axis=1)\n",
    "        self.labels = labels\n",
    "        self.Y_pred = -np.ones_like(labels)\n",
    "        self.w = np.random.rand(self.inputs.shape[1],labels.shape[1])\n",
    "       \n",
    "    def stepFunction(self,x):\n",
    "        return np.where(x >= 0.0, 1, -1)\n",
    "    def sigmoidFunction(self,x):\n",
    "        return 1/(1 + np.exp(-x))\n",
    "    def linearFunction(self,x):\n",
    "        return x\n",
    "    def forwardPath(self,row,x):\n",
    "        y_pred = np.dot(x[row].reshape(1,self.inputs.shape[1]),self.w) \n",
    "        self.Y_pred[row] = self.stepFunction(y_pred)\n",
    "        return (y_pred,self.w)\n",
    "    def update(self,y,row):\n",
    "        t = (self.labels[row]- y).reshape(1,self.labels.shape[1])\n",
    "        self.w +=   self.alpha*np.dot(self.inputs[row].reshape(self.inputs.shape[1],1),t)\n",
    "        \n",
    "    def epoch(self):\n",
    "        for i in range(self.inputs.shape[0]):\n",
    "            pred = self.forwardPath(i,self.inputs)\n",
    "            result = self.update(pred[0],i)\n",
    "           \n",
    "        \n",
    "    def train(self,iter):\n",
    "        for i in range(iter):\n",
    "            print(\"epoch\",i)\n",
    "            count = 0\n",
    "            while(True):\n",
    "                count +=1\n",
    "                self.epoch()\n",
    "                if(np.array_equal(np.array(self.Y_pred),self.labels)):\n",
    "                    break\n",
    "                if(count > 1000):\n",
    "                    break\n",
    "    def predict(self,x):\n",
    "        predList = []\n",
    "        for i in range(x.shape[0]):\n",
    "            self.forwardPath(i,np.append(x,np.ones((21,1)),axis=1))\n",
    "            \n",
    "        return self.Y_pred\n",
    "    def score(self,y,y_pred):\n",
    "       \n",
    "        subtract = y-y_pred\n",
    "        error = 0\n",
    "        for i in subtract:\n",
    "            if(not(np.array_equal(i,np.zeros_like(i)))):\n",
    "                error +=1\n",
    "        print(1-error/subtract.shape[0])\n",
    "       "
   ]
  },
  {
   "cell_type": "code",
   "execution_count": 268,
   "id": "a0566c50",
   "metadata": {},
   "outputs": [],
   "source": [
    "adModel =  AdalineModel(0.01,X_train,Y_train)"
   ]
  },
  {
   "cell_type": "code",
   "execution_count": 269,
   "id": "023d6b2e",
   "metadata": {},
   "outputs": [
    {
     "name": "stdout",
     "output_type": "stream",
     "text": [
      "epoch 0\n",
      "epoch 1\n",
      "epoch 2\n",
      "epoch 3\n",
      "epoch 4\n",
      "epoch 5\n",
      "epoch 6\n",
      "epoch 7\n",
      "epoch 8\n",
      "epoch 9\n"
     ]
    }
   ],
   "source": [
    "adModel.train(10)"
   ]
  },
  {
   "cell_type": "code",
   "execution_count": 270,
   "id": "99734ac9",
   "metadata": {},
   "outputs": [],
   "source": [
    "y_pred = adModel.predict(X_test)"
   ]
  },
  {
   "cell_type": "code",
   "execution_count": 272,
   "id": "ff51f6ce",
   "metadata": {},
   "outputs": [
    {
     "name": "stdout",
     "output_type": "stream",
     "text": [
      "0.6666666666666667\n"
     ]
    }
   ],
   "source": [
    "model.score(Y_test,np.array(y_pred))"
   ]
  },
  {
   "cell_type": "code",
   "execution_count": null,
   "id": "9307a37b",
   "metadata": {},
   "outputs": [],
   "source": []
  }
 ],
 "metadata": {
  "kernelspec": {
   "display_name": "Python 3 (ipykernel)",
   "language": "python",
   "name": "python3"
  },
  "language_info": {
   "codemirror_mode": {
    "name": "ipython",
    "version": 3
   },
   "file_extension": ".py",
   "mimetype": "text/x-python",
   "name": "python",
   "nbconvert_exporter": "python",
   "pygments_lexer": "ipython3",
   "version": "3.9.7"
  }
 },
 "nbformat": 4,
 "nbformat_minor": 5
}
